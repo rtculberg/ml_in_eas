{
 "cells": [
  {
   "cell_type": "markdown",
   "id": "dba7da94-dc6f-40be-8d39-805c48691730",
   "metadata": {},
   "source": [
    "# Problem Set 5 - K-Means Clustering  \n",
    "\n",
    "In this problem set, you will explore seasonal ice velocity patterns on the Greenland Ice Sheet using K-Means clustering. The analysis is based on Solgaard, A. M., Rapp, D., Noël, B. P. Y., & Hvidberg, C. S. (2022). Seasonal patterns of Greenland ice velocity from Sentinel-1 SAR data  linked to runoff. *Geophysical Research Letters*, 49, e2022GL100343. https://doi.org/10.1029/2022GL100343. "
   ]
  },
  {
   "cell_type": "markdown",
   "id": "1b3a67a0-bf2d-410c-8ec6-92b8b860041d",
   "metadata": {},
   "source": [
    "**[1]** In the code block below, import the libraries you will need for data preprocessing and K-Means clustering."
   ]
  },
  {
   "cell_type": "code",
   "execution_count": 1,
   "id": "1e6a8330-83d3-4b4c-bd48-9f243be971f0",
   "metadata": {},
   "outputs": [],
   "source": []
  },
  {
   "cell_type": "markdown",
   "id": "018dd991-f2c9-4dfb-9333-4229783363ba",
   "metadata": {},
   "source": [
    "**[2] (2 pts)** Load the dataset into a dataframe and display the first few lines of the dataframe. Due to the data volume, this data set is hosted locally on our server at /scratch/ml_in_eas/data/VelocityTimeSeries.csv. \n",
    "\n",
    "You should see that the data has 29 features, labeled t1 through t29. Each row in the dataframe represents a single location on the ice sheet. Each column in the dataframe (e.g. each of the 29 features) represents the velocity at that location at a particular time. For example, t1 corresponds to 23 Jan 2019 and t29 is 18 Dec 2019. Therefore each row of the dataframe is a time series of ice velocity from Jan-Dec 2019 at a particular location on the ice sheet.  \n",
    "\n",
    "Your goal in this problem set is to find clusters of common seasonal velocity patterns, e.g. velocity time series from different locations on the ice sheet that behave similarly. For example, all locations that have slow spring velocities, speed up during the summer, and return to slow velocities in the winter might constitute a cluster. Glaciologists are interested in these patterns because they can shed light on interactions between ice velocity and surface melting. For example, previous work has identified a common pattern where some glaciers speed up when surface meltwater runoff is high, and slow down when it is low due to additional basal lubrication that allows the ice to slide faster."
   ]
  },
  {
   "cell_type": "code",
   "execution_count": null,
   "id": "261c22c8-43d2-4114-8a41-5d17cc4736d3",
   "metadata": {},
   "outputs": [],
   "source": []
  },
  {
   "cell_type": "markdown",
   "id": "33f4960b-395b-410a-80e2-cf403b0ee99d",
   "metadata": {},
   "source": [
    "**[3] (5 pts)** Scale each time series to its own range (e.g. apply min-max scaling to each row of the dataframe). Note that this is a different approach to data standardization! Typically we standardize each feature within itself. But in this case, all of our features have meaningful relationships with one another. Since we want to cluster time series with common patterns, it makes more sense to rescale the each time series by its own min and max, rather than scaling all velocities at a given point in time based on the min and max velocities across the whole ice sheet. "
   ]
  },
  {
   "cell_type": "code",
   "execution_count": null,
   "id": "23cc0d54-25b5-4a85-a170-87c01a4c1110",
   "metadata": {},
   "outputs": [],
   "source": []
  },
  {
   "cell_type": "markdown",
   "id": "4254770f-288c-4cb8-8e5d-675998476192",
   "metadata": {},
   "source": [
    "**[4] (7 pts)** Instantiate, train, and predict clusters using a K-Means model. Solgaard et al (2022) ultimately chose 4 clusters as the optimal representation of the data, so run this initial model with four clusters. "
   ]
  },
  {
   "cell_type": "code",
   "execution_count": 27,
   "id": "50f60072-f6e5-4d82-9854-466e8dfc284a",
   "metadata": {},
   "outputs": [],
   "source": []
  },
  {
   "cell_type": "markdown",
   "id": "1f6a2d58-5655-47b4-8db4-90e70fbfa130",
   "metadata": {},
   "source": [
    "**[5] (15 pts)** Make a figure with four subplots, one for each predicted cluster. For each cluster, plot the mean velocity as a function of the day of the year, as well as the 10% percentile and 90% of the velocity. You should produce four different velocity time series with uncertainty bounds that represent the average behavior of each cluster.   \n",
    "\n",
    "A 2014, when ice sheet velocity data was much more sparse, a paper manually sorted glacier velocity patterns from a subset of Greenland glaciers into three modes that were related to the surface meltwater runoff patterns. Compare the patterns from your clusters to the patterns from Figure 2 in Moon, T., I. Joughin, B. Smith, M. R. van den Broeke, W. J. van de Berg, B. Noël, and M. Usher (2014), Distinct patterns of seasonal Greenland glacier velocity, *Geophys. Res. Lett.*, 41, 7209–7216, doi:10.1002/2014GL061836. \n",
    "\n",
    "Answer the questions below:    \n",
    "(1) How do the velocity patterns that you inferred using K-Means compare to the velocity patterns in Moon et al. (2014)?            \n",
    "(2) Does your machine learning analysis provide further support for any of the glacier velocity modes originally identified in Moon et al. (2014)? If so, which ones?"
   ]
  },
  {
   "cell_type": "code",
   "execution_count": null,
   "id": "c255baab-d035-4e47-9743-f174763a1d13",
   "metadata": {},
   "outputs": [],
   "source": [
    "# Day of year axis for plotting normalized velocity as a function of the day of the year\n",
    "doy = np.arange(24,365,12)\n",
    "doy = x[0:29]"
   ]
  },
  {
   "cell_type": "markdown",
   "id": "efa1edb7-69a2-484d-baac-223894464c84",
   "metadata": {},
   "source": [
    "**[6] (6 pts)** We typically use the silhouette score to choose the optimal number of clusters for K-Means. Unfortunately, calculating the silhouette score is very computationally expensive and for a dataset of this size would take a very long time, especially if we wanted to try many different numbers of clusters to get an accurate picture of the best option. As discussed in class, an alternate way to choose the optimal number of clusters that is less informative but easier to compute is the \"elbow plot\".   \n",
    "\n",
    "Fit a `KMeans()` model for numbers of clusters ranging from 2-25 and create an elbow plot. Remember that the `intertia_` property of the trained `KMeans()` object is the sum of squared distances of samples to their closest cluster center.   \n",
    "\n",
    "Answer the following question:     \n",
    "(1) How many clusters do you think would be optimal based on your elbow plot?"
   ]
  },
  {
   "cell_type": "code",
   "execution_count": null,
   "id": "20830b06-68d7-4187-8766-a63ad1bbb1a3",
   "metadata": {},
   "outputs": [],
   "source": []
  },
  {
   "cell_type": "markdown",
   "id": "1b0bd089-b28a-4ffb-a1dd-9301c0c2ae38",
   "metadata": {},
   "source": [
    "**[7] (15 pts)** Train a new K-Means model that uses eight clusters. As you did for the four cluster model, plot the mean velocity time series and its uncertainty (10-90 percentile of velocity) for each of the eight clusters.   \n",
    "\n",
    "Answer the questions below:     \n",
    "(1) How much additional information about glacier velocity patterns do the extra four clusters seem to provide?    \n",
    "(2) If we wanted to further investigate links between velocity patterns and their physical drivers, do you think the four cluster or eight cluster results would be more useful? Why?"
   ]
  },
  {
   "cell_type": "code",
   "execution_count": null,
   "id": "f107f569-0428-4eb0-8a09-225c5d3f6713",
   "metadata": {},
   "outputs": [],
   "source": []
  }
 ],
 "metadata": {
  "kernelspec": {
   "display_name": "EAS6920: ML in EAS",
   "language": "python",
   "name": "ml_in_eas"
  },
  "language_info": {
   "codemirror_mode": {
    "name": "ipython",
    "version": 3
   },
   "file_extension": ".py",
   "mimetype": "text/x-python",
   "name": "python",
   "nbconvert_exporter": "python",
   "pygments_lexer": "ipython3",
   "version": "3.12.5"
  }
 },
 "nbformat": 4,
 "nbformat_minor": 5
}
