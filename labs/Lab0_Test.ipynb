{
 "cells": [
  {
   "cell_type": "markdown",
   "id": "712e3806-27db-4db2-9ba5-7b4ee07c0233",
   "metadata": {},
   "source": [
    "# Lab 0 - Test Your Submission Workflow\n",
    "\n",
    "The purpose of this lab is to make sure that your Python kernel is set up correctly and that you understand the workflow for accessing and submitting problem sets. Run the import statements below by clicking in the code block and hitting either CTRL-Enter or the `Play` button along the top menu bar. If your kernel is correctly installed, all the packages should import without error. If you encounter errors, check that you are running a `EAS6920 - ML in EAS` kernel by checking the kernel name in the upper right hand corner of the notebook. If the kernel is wrong, you can click on the name to change it to `EAS6920 - ML in EAS`."
   ]
  },
  {
   "cell_type": "code",
   "execution_count": 3,
   "id": "f823ddcd-a300-4b3b-9b34-3cca6c35151c",
   "metadata": {},
   "outputs": [],
   "source": [
    "import numpy as np\n",
    "import pandas as pd\n",
    "import matplotlib.pyplot as plt\n",
    "import sklearn\n",
    "import pymc\n",
    "import arviz"
   ]
  }
 ],
 "metadata": {
  "kernelspec": {
   "display_name": "EAS6920: ML in EAS",
   "language": "python",
   "name": "ml_in_eas"
  },
  "language_info": {
   "codemirror_mode": {
    "name": "ipython",
    "version": 3
   },
   "file_extension": ".py",
   "mimetype": "text/x-python",
   "name": "python",
   "nbconvert_exporter": "python",
   "pygments_lexer": "ipython3",
   "version": "3.12.5"
  }
 },
 "nbformat": 4,
 "nbformat_minor": 5
}
