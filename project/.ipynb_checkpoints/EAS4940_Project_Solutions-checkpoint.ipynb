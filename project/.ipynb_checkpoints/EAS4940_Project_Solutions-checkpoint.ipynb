{
 "cells": [
  {
   "cell_type": "markdown",
   "id": "3a6546c8-a769-42be-ac96-342e565e294d",
   "metadata": {},
   "source": [
    "# EAS4940 Final Project - Predicting Surging Glaciers in Svalbard\n",
    "\n",
    "Glaciers are massive bodies of ice that flow under their own weight across the earth they sit on, like a big pool of syrup spreading out on a pancake. A particular type of glacier, called a “surging” glacier, experience cyclic velocity changes. They may flow slowly for year or decades before suddenly accelerating to speeds as fast as 4-5 meters per day over a short time period of weeks to months, before returning to their slow flow speeds. These surges can lead to a sudden spike in ice mass loss and can also be extremely hazardous. For example, the Himalayas, surging glaciers can breach ice dams, causing glacier lake outburst floods which can be catastrophic for people and infrastructure downstream. You can see an example of surging glacier from Alaska in this timelapse video from the National Parks Service in Alaska: https://www.nps.gov/media/video/view.htm?id=F1010B88-4C85-4EBB-949E-582D2E498372. \n",
    "\n",
    "Glaciers surges are challenging to predict. In fact, even determining if a given glacier is likely to surge, let alone when and why a surge will occur, can be difficult. In this project, you will use a series of glacier features to try to predict which glaciers may be prone to surges. The dataset you will use was prepared and published as part of the following paper:\n",
    "\n",
    "Bouchayer, C., Aiken, J. M., Thøgersen, K., Renard, F., & Schuler, T. V. (2022). A Machine learning framework to automate the classification of surge-type glaciers in Svalbard. Journal of Geophysical Research: Earth Surface, 127, e2022JF006597. https://doi.org/10.1029/2022JF006597 \n",
    "\n",
    "These data come from Svalbard, an Arctic Archipelago that is part of Norway. Using a combination of field measurements, satellite data, and numerical models, the authors created a dataset that contains the following features, sampled along the centerline of every glacier in Svalbard roughly every 100 m. \n",
    "\n",
    "**rgiid**: glacier ID in the Randolph Glacier Inventory. This is a unique identifier for each glacier. While you will not want to use this feature to train your model, is useful for later analysis when you may want to identify which data points belong to a particular glacier.        \n",
    "**name**: the glacier name (if it has one)         \n",
    "**x**: the x coordinate of the data point in polar stereographic coordinates      \n",
    "**y**: the y coordinate of the data point in polar stereographic coordinates        \n",
    "**surge**: type of surging glacier from the Randolph Glacier Inventory. 0 = does not surge, 1 = surging glacier. These are your class labels.            \n",
    "**bed_elev**: elevation of the bedrock under the glacier in meters          \n",
    "**thickness**: glacier ice thickness in meters          \n",
    "**surface_elev**: glacier surface elevation in meters      \n",
    "**width**: width of the glacier in meters           \n",
    "**runoff**: average annual runoff in millimeters of water equivalent          \n",
    "**bed_slope**: slope of the bedrock under the glacier in degrees         \n",
    "**surface_slope**: slope of the glacier surface in degrees          \n",
    "**driving_stress**: the forces acting to drive glacier flow downhill due to gravity and pressure gradients in the ice in Pascals     \n",
    "**WH**: the glacier width divided by its thickness (aspect ratio)         \n",
    "**cmb**: climatic mass balance in millimeters of water equivalent per year   \n",
    "\n",
    "You can access the data at:  \n",
    "https://raw.githubusercontent.com/rtculberg/ml_in_eas/main/data/GlacierSurge_TrainTest.csv      \n",
    "https://raw.githubusercontent.com/rtculberg/ml_in_eas/main/data/GlacierSurge_Unseen.csv  \n",
    "\n",
    "Your job is to build and evaluate a binary classification model to categorize glaciers as surging or non-surging based on these 10 features: bed_elev, thickness, surface_elev, width, runoff, bed_slope, surface_slope, driving_stress, WH, and cmb.          "
   ]
  },
  {
   "cell_type": "markdown",
   "id": "8e3c4d1b-6de5-483e-9791-2177b7323521",
   "metadata": {},
   "source": [
    "## [1] Prepare Your Data for Machine Learning\n",
    "Use the data from GlacierSurge_TrainTest.csv to train and test your model. At the end of the project, you will apply your model to the glaciers in GlacierSurge_Unseen.csv to predict whether they are likely to surge or not. When preparing your data for your machine learning model, be sure to consider the presence of NaN values, how you implement the test-train split and whether you also need to normalize your input features, conduct PCA, etc based on features you find in the data. "
   ]
  },
  {
   "cell_type": "code",
   "execution_count": null,
   "id": "9fa317c7-1b43-48e7-8d41-750213e3ec33",
   "metadata": {},
   "outputs": [],
   "source": []
  },
  {
   "cell_type": "markdown",
   "id": "35132e9a-b63f-4f19-be75-ea05e2508a86",
   "metadata": {},
   "source": [
    "## [2] Select and Implement a Model\n",
    "You may use any binary classification model that we discussed in class for this project – Logistic Regression, SVM, or Random Forest. Be sure to consider whether your chosen model has any hyperparameters and how you will tune them to create the best possible predictions. "
   ]
  },
  {
   "cell_type": "code",
   "execution_count": null,
   "id": "e9a9afc6-f426-47db-9bab-e5f4804a48fb",
   "metadata": {},
   "outputs": [],
   "source": []
  },
  {
   "cell_type": "markdown",
   "id": "0156be74-104e-4973-9e75-4a06dd692feb",
   "metadata": {},
   "source": [
    "## [3] Evaluate Your Model\n",
    "Choose and calculate appropriate evaluation metrics for your model. Be sure to consider best practices like cross-validation when designing your evaluation plan. "
   ]
  },
  {
   "cell_type": "code",
   "execution_count": null,
   "id": "c23296fa-7be7-4ebd-bee4-a8bf05c0ef5f",
   "metadata": {},
   "outputs": [],
   "source": []
  },
  {
   "cell_type": "markdown",
   "id": "70d93a42-c819-4595-b058-7659201e37ce",
   "metadata": {},
   "source": [
    "## [4] Apply Your Model to Unseen Data\n",
    "Use your model to predict whether the withheld glaciers that were categorized as surge = 1 (possible surging glaciers) are more likely to be surging or non-surging glaciers. Plot two maps: one showing all of the glacier data points from the training and testing data set in x-y space with the datapoints colored by their surge category, and one map showing the unseen glaciers and their predicted surge category. As we did in Problem Set #3, use the correlation between the final classifications for each data point and input features to assess feature importance for predicting surge type."
   ]
  },
  {
   "cell_type": "code",
   "execution_count": null,
   "id": "aa1b7d00-d111-4c64-80d0-476570f636b7",
   "metadata": {},
   "outputs": [],
   "source": []
  }
 ],
 "metadata": {
  "kernelspec": {
   "display_name": "EAS6920: ML in EAS",
   "language": "python",
   "name": "ml_in_eas"
  },
  "language_info": {
   "codemirror_mode": {
    "name": "ipython",
    "version": 3
   },
   "file_extension": ".py",
   "mimetype": "text/x-python",
   "name": "python",
   "nbconvert_exporter": "python",
   "pygments_lexer": "ipython3",
   "version": "3.12.5"
  }
 },
 "nbformat": 4,
 "nbformat_minor": 5
}
