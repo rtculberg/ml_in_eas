{
 "cells": [
  {
   "cell_type": "markdown",
   "metadata": {
    "id": "AKPCDm4esrzk"
   },
   "source": [
    "# Problem Set 1 - Python Intro & Data Prep\n",
    "\n",
    "The main goal of this problem set is to introduce you to working with data in pandas DataFrames and preparing that data for use with a machine learning model. We will also look briefly at the scikit-learn interface and documentation. A core objective of this course is for you to become comfortable reading and understanding python package documentation, so read the hints carefully and use the provided links to find and learn how to use the built-in functions available in pandas and scikit-learn."
   ]
  },
  {
   "cell_type": "markdown",
   "metadata": {
    "id": "UPI9EDlzXNL9"
   },
   "source": [
    "## Importing Packages\n",
    "\n",
    "The major packages that we will work with in this course are:   \n",
    "\n",
    "**pandas**: loading, managing, and manipulating data     \n",
    "*   User Guide: https://pandas.pydata.org/docs/user_guide/index.html   \n",
    "*   Documentation: https://pandas.pydata.org/docs/reference/index.html  \n",
    "\n",
    "**numpy**: mathematical calculations and ancillary data management  \n",
    "*   Documentation: https://numpy.org/doc/stable/    \n",
    "\n",
    "**matplotlib**: plotting results  \n",
    "*   User Guide: https://matplotlib.org/stable/users/index.html\n",
    "*   Documentation: https://matplotlib.org/stable/api/index.html\n",
    "\n",
    "**scikit-learn**: general machine learning models     \n",
    "*   User Guide: https://scikit-learn.org/stable/getting_started.html    \n",
    "*   Documentation: https://scikit-learn.org/stable/    \n",
    "\n",
    "**pymc3**: Bayesian models\n",
    "*   User Guide: https://www.pymc.io/projects/docs/en/stable/learn.html\n",
    "*   Documentation: https://www.pymc.io/projects/docs/en/stable/api.html"
   ]
  },
  {
   "cell_type": "markdown",
   "metadata": {
    "id": "W8FnOfQ_fNmO"
   },
   "source": [
    "<div class=\"alert alert-info\">\n",
    "    <b>(2 pts)</b> In the code block below, import pandas, matplotlib, and scikit-learn.\n",
    "</div>\n",
    "<div class=\"alert alert-warning\">\n",
    "    Grading Comments: \n",
    "</div>"
   ]
  },
  {
   "cell_type": "code",
   "execution_count": null,
   "metadata": {
    "id": "4YLX__iTXERq"
   },
   "outputs": [],
   "source": [
    "# Enter code here"
   ]
  },
  {
   "cell_type": "markdown",
   "metadata": {
    "id": "xTdomYaYasAp"
   },
   "source": [
    "## Working with Pandas Data Frames\n",
    "We can directly pull text file data from Github into a pandas dataframe using the `to_csv()` function. The code block below shows you how to load the data for this assignment. You will use this same method to load data for most future problem sets and labs. The call to `data.head()` will display the first few lines of the dataframe."
   ]
  },
  {
   "cell_type": "code",
   "execution_count": null,
   "metadata": {
    "id": "bYkBgBBYZyvJ"
   },
   "outputs": [],
   "source": [
    "data = pd.read_csv(\"https://raw.githubusercontent.com/rtculberg/ml_in_eas/main/data/Jakobshavn.csv\")\n",
    "data.head()"
   ]
  },
  {
   "cell_type": "markdown",
   "metadata": {
    "id": "uQ0nzHCuM02t"
   },
   "source": [
    "You should see that the dataframe contains the following variables:      \n",
    "\n",
    "LAT - latitude of the data point (WGS84)       \n",
    "LON - longitude of the data point (WGS84)          \n",
    "ICE_THICK - ice thickness in meters at each data point       \n",
    "QUALITY - quality of the ice thickness measurements. 0 means that quality was not assessed, 1 is high quality, 2 is low quality, and 3 indicates the values were filled in from ancillary sources.          \n",
    "VELOCITY - ice velocity in meters per year at each data point        \n",
    "SURFACE_ELEV - surface elevation in meters above sea level (WGS84) at each data point       "
   ]
  },
  {
   "cell_type": "markdown",
   "metadata": {
    "id": "mlu9ZiWalIGe"
   },
   "source": [
    "Use the built-in pandas functions for dataframes to complete the tasks listed below. You can find a list of all of these functions here: https://pandas.pydata.org/docs/reference/frame.html.\n",
    "\n",
    "<div class=\"alert alert-info\">\n",
    "    <b>(5 pts)</b> The QUALITY field indicates the assessed quality of the ice thickness measurements. Drop all of the rows from the dataframe where QUALITY is not equal to 1. Plot a 2D spatial map of the data points (longitude vs. latitude) using the matplotlib <code>scatter</code> function and color each datapoint by the associated ice thickness. Make sure to include axis labels and a colorbar for your plot.    \n",
    "</div>\n",
    "<div class=\"alert alert-warning\">\n",
    "    Grading Comments: \n",
    "</div>\n",
    "\n",
    "**Hint**: see the section on \"Boolean Indexing\" in the pandas user guide (https://pandas.pydata.org/docs/user_guide/indexing.html) and the documentation for the `drop()` function (https://pandas.pydata.org/pandas-docs/stable/reference/api/pandas.DataFrame.drop.html).      \n",
    "    \n",
    "**Hint**: See the Matplotlib quick start guide for some basic examples of how to use this package for making figures (https://matplotlib.org/stable/users/explain quick_start.html)."
   ]
  },
  {
   "cell_type": "code",
   "execution_count": null,
   "metadata": {
    "id": "643erm65lTP1"
   },
   "outputs": [],
   "source": [
    "# Enter code here"
   ]
  },
  {
   "cell_type": "markdown",
   "metadata": {
    "id": "s6D-bSayhIUP"
   },
   "source": [
    "<div class=\"alert alert-info\">\n",
    "    <b>(3 pts)</b> Check if there are any NaN values in the ICE_THICK, SURFACE_ELEV, or VELOCITY columns. If so, remove any row that has at least one NaN value in it from the dataframe.\n",
    "</div>\n",
    "<div class=\"alert alert-warning\">\n",
    "    Grading Comments: \n",
    "</div>\n",
    "\n",
    "**Hint**: see the pandas documentation on the `isna()` and `dropna()` functions (https://pandas.pydata.org/docs/reference/frame.html)."
   ]
  },
  {
   "cell_type": "code",
   "execution_count": null,
   "metadata": {
    "id": "wwgbEYSLheM3"
   },
   "outputs": [],
   "source": [
    "# Enter code here"
   ]
  },
  {
   "cell_type": "markdown",
   "metadata": {
    "id": "65fk4yco5H3n"
   },
   "source": [
    "<div class=\"alert alert-info\">\n",
    "    <b>(3 pts)</b> Now plot a histogram of the cleaned ice thickness.   \n",
    "</div>\n",
    "<div class=\"alert alert-warning\">\n",
    "    Grading Comments: \n",
    "</div>\n",
    "\n",
    "Answer the following question:    \n",
    "Do you notice any outliers or potential issues with the distribution?"
   ]
  },
  {
   "cell_type": "code",
   "execution_count": null,
   "metadata": {
    "id": "4wdL5NIb3bye"
   },
   "outputs": [],
   "source": [
    "# Enter code here"
   ]
  },
  {
   "cell_type": "markdown",
   "metadata": {
    "id": "6H1fwwpb5Zj3"
   },
   "source": [
    "<div class=\"alert alert-info\">\n",
    "    <b>(5 pts)</b> Since we are only interested in data on the ice sheet itself, remove rows where the ice thickness is less than ~10 m. Plot a map of the remaining ice thickness measurements. Make sure to include axis labels and colorbar for your plot.\n",
    "</div>\n",
    "<div class=\"alert alert-warning\">\n",
    "    Grading Comments: \n",
    "</div>"
   ]
  },
  {
   "cell_type": "code",
   "execution_count": null,
   "metadata": {
    "id": "wBnF_JBt3sZV"
   },
   "outputs": [],
   "source": [
    "# Enter code here"
   ]
  },
  {
   "cell_type": "markdown",
   "metadata": {
    "id": "N1OxZDSs2B2T"
   },
   "source": [
    "<div class=\"alert alert-info\">\n",
    "    <b>(3 pts)</b> Now we would like to calculate some statistics about our data, such as the mean ice thickness. At this point, we no longer need the quality flags or the positioning information. Create a new dataframe that only contains the ICE_THICK, SURFACE_ELEV, and VELOCITY columns. Display the first few rows of this new dataframe.\n",
    "</div>\n",
    "<div class=\"alert alert-warning\">\n",
    "    Grading Comments: \n",
    "</div>"
   ]
  },
  {
   "cell_type": "code",
   "execution_count": null,
   "metadata": {
    "id": "KOfrjIsxx18v"
   },
   "outputs": [],
   "source": [
    "# Enter code here"
   ]
  },
  {
   "cell_type": "markdown",
   "metadata": {
    "id": "4P1Jd36ebr_U"
   },
   "source": [
    "<div class=\"alert alert-info\">\n",
    "    <b>(2 pts)</b> Display the mean value of the data in each column.\n",
    "</div>\n",
    "<div class=\"alert alert-warning\">\n",
    "    Grading Comments: \n",
    "</div>"
   ]
  },
  {
   "cell_type": "code",
   "execution_count": null,
   "metadata": {
    "id": "I3ywx2cGb0Rl"
   },
   "outputs": [],
   "source": [
    "# Enter code here"
   ]
  },
  {
   "cell_type": "markdown",
   "metadata": {
    "id": "2NWr2vIPftqu"
   },
   "source": [
    "<div class=\"alert alert-info\">\n",
    "    <b>(2 pts)</b> Display the unbiased standard deviation of the data in each column.\n",
    "</div>\n",
    "<div class=\"alert alert-warning\">\n",
    "    Grading Comments: \n",
    "</div>"
   ]
  },
  {
   "cell_type": "code",
   "execution_count": null,
   "metadata": {
    "id": "9wn1K7_tzT25"
   },
   "outputs": [],
   "source": [
    "# Enter code here"
   ]
  },
  {
   "cell_type": "markdown",
   "metadata": {
    "id": "KdUf99QokuAd"
   },
   "source": [
    "<div class=\"alert alert-info\">\n",
    "    <b>(3 pts)</b> Calculate and plot a visualization of the correlation matrix between the columns in the dataframe.  \n",
    "</div>\n",
    "<div class=\"alert alert-warning\">\n",
    "    Grading Comments: \n",
    "</div>\n",
    "\n",
    "**Hint**: look at the pandas documentation for the `corr()` function and see the second answer to this StackOverflow questions about applying styles to dataframes: https://stackoverflow.com/questions/29432629/plot-correlation-matrix-using-pandas"
   ]
  },
  {
   "cell_type": "code",
   "execution_count": null,
   "metadata": {
    "id": "oBJy7HRz0BIP"
   },
   "outputs": [],
   "source": [
    "# Enter code here"
   ]
  },
  {
   "cell_type": "markdown",
   "metadata": {
    "id": "zevX6sfSt-qO"
   },
   "source": [
    "## Working with Scikit-Learn\n",
    "\n",
    "You should have noticed that the correlation coefficient between surface elevation and ice thickness is quite high, suggesting a strong linear relationship between the two variables. To get familiar with the scikit-learn package, we will implement a simple linear regression model to predict ice thickness from surface elevation.     \n",
    "You can find an example of implementing linear regression in scikit-learn here: https://scikit-learn.org/stable/auto_examples/linear_model/plot_ols.html#.   \n",
    "You can find the documentation for the `LinearRegression` model here: https://scikit-learn.org/stable/modules/generated/sklearn.linear_model.LinearRegression.html#sklearn.linear_model.LinearRegression"
   ]
  },
  {
   "cell_type": "markdown",
   "metadata": {
    "id": "D4l-txshxIsU"
   },
   "source": [
    "Scikit-learn uses an object-oriented programming paradigm. As a result, the general workflow is that you will create a model object, train the model by calling the `fit` function on your model, and passing it your training data. Once you have a trained model, you can call the `predict` function on your trained model and past it the test data (or other unseen data) to predict the results based on those input data.\n",
    "The code block below has a few lines of code that will split your data into a training and test set. Add additional code to complete the following tasks:  \n",
    "\n",
    "<div class=\"alert alert-info\">\n",
    "    <b>(5 pts)</b> Instantiate a new linear regression model object. <br>        \n",
    "    <b>(5 pts)</b> Train the model with the training set. <br>          \n",
    "    <b>(5 pts)</b> Make predictions on the test set. <br>              \n",
    "    <b>(5 pts)</b> Plot the training data and the test set predictions on a single plot (this should look like a scatter plot of the training data, with a best fit line through it from the test set predictions.) <br>       \n",
    "    <b>(2 pts)</b> Print the slope of the best fit line from the linear model.\n",
    "</div>\n",
    "<div class=\"alert alert-warning\">\n",
    "    Grading Comments: \n",
    "</div>"
   ]
  },
  {
   "cell_type": "code",
   "execution_count": null,
   "metadata": {
    "id": "QCUKf6tSxFgO"
   },
   "outputs": [],
   "source": [
    "from sklearn import linear_model, model_selection\n",
    "\n",
    "# Use a random 30% of the data as test data and leave the remaining 70% of the data for training\n",
    "# Since we want to predict ice thickness from surface elevation using a model of the form\n",
    "# y = mx + b, data['SURFACE_ELEV'] will be our x variable and data['ICE_THICK'] will be our y\n",
    "# variable. For reproducibility, we set the random state to 10.\n",
    "# Note that the regression model expects the x values to be an ndarray, so rather than passing in the\n",
    "# Series data['SURFACE_ELEV'], we pass its values to get an ndarray and then reshape the output from\n",
    "# a 1D to 2D array to that the data will be in the shape and format expected by the regression model.\n",
    "x_train, x_test, y_train, y_test = model_selection.train_test_split(data['SURFACE_ELEV'].values, data['ICE_THICK'], test_size=0.3, random_state=10)\n",
    "x_train = x_train.reshape(-1,1)\n",
    "x_test = x_test.reshape(-1,1)\n",
    "\n",
    "# Enter your code here\n"
   ]
  }
 ],
 "metadata": {
  "colab": {
   "authorship_tag": "ABX9TyMqUV65kGshry8F5vvWAnLT",
   "provenance": [
    {
     "file_id": "1nT7Cj5XhEYLX2TDAuZ_7hkZ-W2dmjEWl",
     "timestamp": 1722951318058
    }
   ]
  },
  "kernelspec": {
   "display_name": "Python 3 (ipykernel)",
   "language": "python",
   "name": "python3"
  },
  "language_info": {
   "codemirror_mode": {
    "name": "ipython",
    "version": 3
   },
   "file_extension": ".py",
   "mimetype": "text/x-python",
   "name": "python",
   "nbconvert_exporter": "python",
   "pygments_lexer": "ipython3",
   "version": "3.10.10"
  }
 },
 "nbformat": 4,
 "nbformat_minor": 4
}
