{
 "cells": [
  {
   "cell_type": "markdown",
   "metadata": {
    "id": "XgZb0zkWUw8E"
   },
   "source": [
    "# Problem Set 4 - Bayesian Linear Regression\n",
    "\n",
    "In this problem set, you will use Bayesian Linear Regression to model monthly ice sheet surface melt rates as a function of the number of positive degree days based on data from the KAN-M weather station site on the Greenland Ice Sheet.     \n",
    "\n",
    "### The Positive Degree Day Model  \n",
    "The positive degree day model argues that the amount of snow or ice that melts on the surface of a glacier over the course of a month is a linear function of the sum of all air temperature values over 0 C during the month. So for example, if the average temperature on day 1 was 5 C and on day 2 was 2 C, then the positive degree day (PDD) value for those two days would be 7. By calibrating this relationship, we can estimate total snowmelt without needing to run a complicated physical model.   \n",
    "\n",
    "### Data Features   \n",
    "**pdd** - positive degree days in degrees Celcius          \n",
    "**melt** - monthly melt rate in mm of water equivalent per month\n",
    "\n",
    "We will use the [PyMC3](https://www.pymc.io/projects/examples/en/latest/gallery.html) package for Bayesian Linear Regression. You may also find the Arviz documentation on working with `InferenceData` objects helpful: https://python.arviz.org/en/stable/getting_started/WorkingWithInferenceData.html."
   ]
  },
  {
   "cell_type": "markdown",
   "metadata": {
    "id": "3B-3slKeI_jX"
   },
   "source": [
    "**[1]** Import numpy, pymc3, matplotlib, pandas, arviz, xarray, and the sklearn `StandardScaler`."
   ]
  },
  {
   "cell_type": "code",
   "execution_count": null,
   "metadata": {
    "id": "k7g3QoBk-KNX"
   },
   "outputs": [],
   "source": []
  },
  {
   "cell_type": "markdown",
   "metadata": {
    "id": "qMgzGGpkDieN"
   },
   "source": [
    "**[2] (2 pts)** Use pandas to load the data from https://raw.githubusercontent.com/rtculberg/ml_in_eas/main/data/KANM_Melt.csv into a dataframe. Print the first few rows of the dataframe."
   ]
  },
  {
   "cell_type": "code",
   "execution_count": null,
   "metadata": {
    "id": "Np1RXZXp_0VH"
   },
   "outputs": [],
   "source": []
  },
  {
   "cell_type": "markdown",
   "metadata": {
    "id": "bO7Erbx1Dr4m"
   },
   "source": [
    "**[3] (3 pts)** Normalize the data using the z-score transform using `StandardScaler`. Create a scatterplot of your normalized data. "
   ]
  },
  {
   "cell_type": "code",
   "execution_count": null,
   "metadata": {
    "id": "vwfOk190yEsN"
   },
   "outputs": [],
   "source": []
  },
  {
   "cell_type": "markdown",
   "metadata": {
    "id": "B8hS0VjJEW-E"
   },
   "source": [
    "**[4] (10 pts)** Train a Bayesian linear regression model using the PyMC3 interface. A few hints:   \n",
    "* Be sure define mutable data containers for your x and y features so that later on we can change the x-values to make predictions on unseen data.    \n",
    "* Similarly, be sure to define a coordinate system for the observed data.   \n",
    "* Remember to choose appropriate priors for each model parameter, given you have normalized the data to a mean of 0 and standard deviation of 1.          \n",
    "\n",
    "The following example notebooks may be helpful in writing your code:  \n",
    "https://www.pymc.io/projects/docs/en/stable/learn/core_notebooks/GLM_linear.html      \n",
    "https://github.com/pymc-devs/pymc-examples/blob/main/examples/introductory/api_quickstart.ipynb\n"
   ]
  },
  {
   "cell_type": "code",
   "execution_count": null,
   "metadata": {
    "id": "lzxSD_SgCIAQ"
   },
   "outputs": [],
   "source": []
  },
  {
   "cell_type": "markdown",
   "metadata": {
    "id": "ThPbXsIvFqza"
   },
   "source": [
    "**[5] (1 pt)** Print the `InferenceData` structure produced by `pm.sample()`. Look through the data structure and make sure that you understand where the inferred model parameters (slope, intercept, and sigma), model estimated melt volumes, and observed positive degree days and melt rates are stored."
   ]
  },
  {
   "cell_type": "code",
   "execution_count": null,
   "metadata": {
    "id": "MPvIezEDJdRd"
   },
   "outputs": [],
   "source": []
  },
  {
   "cell_type": "markdown",
   "metadata": {
    "id": "oldttyoJGlCi"
   },
   "source": [
    "**[6] (4 pts)** Use the `pm.plot_trace()` function to look at the posterior distributions of model parameters, as well as their traces.      \n",
    "\n",
    "Answer the following question:    \n",
    "Does the Markov Chain Monte Carlo algorithm appear to have converged to stable results for each parameter? Explain why or why not based on the plots."
   ]
  },
  {
   "cell_type": "code",
   "execution_count": null,
   "metadata": {
    "id": "w5M9-_6UDBn2"
   },
   "outputs": [],
   "source": []
  },
  {
   "cell_type": "markdown",
   "metadata": {
    "id": "0ddcoUmtHO_W"
   },
   "source": [
    "**[7] (4 pts)** Use the Arviz `plot_posterior()` function to visualize the posterior distributions of the model parameter.   \n",
    "\n",
    "Answer the following question:        \n",
    "How does the mean value of sigma compare to the observed standard deviation of melt volumes in your dataset?"
   ]
  },
  {
   "cell_type": "code",
   "execution_count": null,
   "metadata": {
    "id": "7C71-bZ6DLfM"
   },
   "outputs": [],
   "source": []
  },
  {
   "cell_type": "markdown",
   "metadata": {},
   "source": [
    "**[8] (3 pts)** Use `pm.sample_posterior_predictive()` to generate predictive samples from the posterior model distributions over whole range of positive degree day values from training feature set."
   ]
  },
  {
   "cell_type": "code",
   "execution_count": null,
   "metadata": {},
   "outputs": [],
   "source": []
  },
  {
   "cell_type": "markdown",
   "metadata": {
    "id": "Ag2JeXEzKUNO"
   },
   "source": [
    "**[9] (1 pt)** Print the new `InferenceData` structure. Make sure you understand where to find the new posterior predictive samples."
   ]
  },
  {
   "cell_type": "code",
   "execution_count": null,
   "metadata": {
    "id": "jhU055WZItp1"
   },
   "outputs": [],
   "source": []
  },
  {
   "cell_type": "markdown",
   "metadata": {
    "id": "N7duaoiUH1ym"
   },
   "source": [
    "**[10] (5 pts)** Bayesian linear regression can be thought of as finding a family of linear models that fit your data, as well as estimating the likelihood for each possible model. Use the Arviz `plot_lm()` function to plot your observed data, the distribution of predicted data from the posterior predictive distribution, and examples from the family of linear models estimated using MCMC.       \n",
    "\n",
    "Hints:    \n",
    "The documentation for `plot_lm()` provides a helpful example of how to generate this type of plot: https://python.arviz.org/en/stable/api/generated/arviz.plot_lm.html."
   ]
  },
  {
   "cell_type": "code",
   "execution_count": null,
   "metadata": {
    "id": "_WLy3aNdKbgQ"
   },
   "outputs": [],
   "source": []
  },
  {
   "cell_type": "markdown",
   "metadata": {
    "id": "qZ1O_NFnTOtv"
   },
   "source": [
    "**[11] (6 pts)** Use the Arviz `plot_ppc()` function to compare the posterior distribution of melt rates predicted by the model to the observed distribution of melt rates. This is a good sanity check to see how the data generated from our model may deviate from data generated from the true distribution. This helps us understand if our posterior distribution is actually approximating the true underlying distribution. \n",
    "\n",
    "Answer the following question:      \n",
    "How do the observed and posterior predicted distributions differ?      \n",
    "How could we manipulate our observed data to reduce the discrepancies you observe?"
   ]
  },
  {
   "cell_type": "code",
   "execution_count": null,
   "metadata": {
    "id": "uarurm_2UTjF"
   },
   "outputs": [],
   "source": []
  },
  {
   "cell_type": "markdown",
   "metadata": {
    "id": "NSNr3BhyLHnq"
   },
   "source": [
    "**[12] (5 pts)** Now suppose that next year you measure 22 positive degree days during July at a different site near KAN-M. Use your Bayesian linear regression model to predict the total surface melt during July at that site.  \n",
    "\n",
    "**Hint**: remember to set `predictions=True` in your call to `pm.sample_posterior_predictive()`. You may find the example code here to be helpful: https://www.pymc-labs.com/blog-posts/out-of-model-predictions-with-pymc/."
   ]
  },
  {
   "cell_type": "code",
   "execution_count": null,
   "metadata": {
    "id": "m1eZqHAI4V0F"
   },
   "outputs": [],
   "source": []
  },
  {
   "cell_type": "markdown",
   "metadata": {
    "id": "5dFdt26bMBqz"
   },
   "source": [
    "**[13] (1 pt)** Print the newly updated `InferenceData` structure and make sure you understand where the new predictions are stored."
   ]
  },
  {
   "cell_type": "code",
   "execution_count": null,
   "metadata": {
    "id": "Az17A2Yc-cf_"
   },
   "outputs": [],
   "source": []
  },
  {
   "cell_type": "markdown",
   "metadata": {
    "id": "KJudWgi4SDIb"
   },
   "source": [
    "**[14] (5 pts)** Use the Arviz `extract()` function to pull out the predictons into a new variable where the chain and and draw dimensions have been collapsed. Use matplotlib to plot a histogram of the predicted melt volumes.   \n",
    "\n",
    "Answer the following question:   \n",
    "Approximately what is the most likely melt volume for our site in July?  \n",
    "\n",
    "**Hint**: Don't forget to unnormalize the predictions!"
   ]
  },
  {
   "cell_type": "code",
   "execution_count": null,
   "metadata": {
    "executionInfo": {
     "elapsed": 3,
     "status": "aborted",
     "timestamp": 1723059815441,
     "user": {
      "displayName": "Riley Culberg",
      "userId": "02970321604032259074"
     },
     "user_tz": 240
    },
    "id": "42qUshhZC9Ha"
   },
   "outputs": [],
   "source": []
  }
 ],
 "metadata": {
  "colab": {
   "authorship_tag": "ABX9TyN4vYRubRgqgBEnCX95B8F0",
   "provenance": [
    {
     "file_id": "12Hk8eMOAHcblDWgSYF-bzgQJOOtMuGCQ",
     "timestamp": 1723059730102
    }
   ]
  },
  "kernelspec": {
   "display_name": "Python 3 (ipykernel)",
   "language": "python",
   "name": "python3"
  },
  "language_info": {
   "codemirror_mode": {
    "name": "ipython",
    "version": 3
   },
   "file_extension": ".py",
   "mimetype": "text/x-python",
   "name": "python",
   "nbconvert_exporter": "python",
   "pygments_lexer": "ipython3",
   "version": "3.10.10"
  }
 },
 "nbformat": 4,
 "nbformat_minor": 4
}
