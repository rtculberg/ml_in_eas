{
 "cells": [
  {
   "cell_type": "markdown",
   "metadata": {
    "id": "86n0N69BfZ3c"
   },
   "source": [
    "# Lab 2 - Logistic Regression and Model Evaluation      \n",
    "\n",
    "The purpose of this lab is to:      \n",
    "(1) Familiarize you with the implementing logistic regression in Scikit Learn.     \n",
    "(2) Explore different ways to evaluate binary classification models and practice interpreting those evaluations."
   ]
  },
  {
   "cell_type": "code",
   "execution_count": 2,
   "metadata": {
    "executionInfo": {
     "elapsed": 4686,
     "status": "ok",
     "timestamp": 1723481767739,
     "user": {
      "displayName": "Riley Culberg",
      "userId": "02970321604032259074"
     },
     "user_tz": 240
    },
    "id": "07_yFvvWohxF"
   },
   "outputs": [],
   "source": [
    "import numpy as np\n",
    "import pandas as pd\n",
    "import matplotlib.pyplot as plt\n",
    "from matplotlib.pyplot import imshow\n",
    "import sklearn as sklearn\n",
    "from sklearn.preprocessing import StandardScaler\n",
    "from sklearn.decomposition import PCA\n",
    "from sklearn.model_selection import train_test_split\n",
    "from sklearn.linear_model import LogisticRegression\n",
    "from sklearn import metrics\n",
    "from sklearn import model_selection"
   ]
  },
  {
   "cell_type": "markdown",
   "metadata": {
    "id": "Qr4bGOWtmmEC"
   },
   "source": [
    "## Logistic Regression        \n",
    "\n",
    "In this lab, you will use the Von Mises stress to predic the presence of absence of fractures on the surface of the Greenland Ice Sheet. The code block below loads your lab data set and drops any columns with missing data. You will see the following variables in the data set:     \n",
    "\n",
    "**label** - 0 if no crevasses were detected at that location, 1 if crevasses were detected at that location         \n",
    "**stress** - the Von Mises stress in Pascals (Pa) at the given location     \n",
    "\n",
    "The code block then splits your dataset in the train, validate, and test datasets. We will use 70% of data for training, 10% for validation, and 20% for testing. We need a separate validation dataset because we eventually want to tune the detection threshold for crevasses.      \n",
    "Note that the `LogisticRegression` object takes as input 2D arrays of shape (X,1) where X is the number of data samples. Therefore, we need to use the `to_numpy().reshape(-1,1)` function to get our input variable from a pandas `DataSeries` into a 2D array (e.g. shape goes from (X,) to (X,1))."
   ]
  },
  {
   "cell_type": "code",
   "execution_count": 14,
   "metadata": {
    "colab": {
     "base_uri": "https://localhost:8080/",
     "height": 206
    },
    "executionInfo": {
     "elapsed": 1060,
     "status": "ok",
     "timestamp": 1723481804275,
     "user": {
      "displayName": "Riley Culberg",
      "userId": "02970321604032259074"
     },
     "user_tz": 240
    },
    "id": "CuenSr5vpWGz",
    "outputId": "56755ea6-159d-47ff-f90f-16011d277a64"
   },
   "outputs": [],
   "source": [
    "data = pd.read_csv(\"https://raw.githubusercontent.com/rtculberg/ml_in_eas/main/data/CrevasseData2.csv\")\n",
    "data = data.dropna(axis=0, how='any')\n",
    "\n",
    "x = data['stress'].to_numpy().reshape(-1,1)\n",
    "y = data['label']\n",
    "\n",
    "# split training, validation, and test data\n",
    "x_train,x_test,y_train,y_test=train_test_split(x,y,test_size=0.2,random_state=10)\n",
    "x_train,x_val,y_train,y_val=train_test_split(x_train,y_train,test_size=0.125,random_state=10)"
   ]
  },
  {
   "cell_type": "markdown",
   "metadata": {
    "id": "kTr1ooHtg0HE"
   },
   "source": [
    "Run the code block below to plot histograms of the Von Mises stress in crevasses and uncrevassed areas. With your lab group, discuss the following questions:            \n",
    "\n",
    "How separable do these two categories appear to be? Is there are clear cutoff in stress between crevassed and uncrevassed regions?   "
   ]
  },
  {
   "cell_type": "code",
   "execution_count": null,
   "metadata": {
    "colab": {
     "base_uri": "https://localhost:8080/",
     "height": 508
    },
    "executionInfo": {
     "elapsed": 2275,
     "status": "ok",
     "timestamp": 1723481809515,
     "user": {
      "displayName": "Riley Culberg",
      "userId": "02970321604032259074"
     },
     "user_tz": 240
    },
    "id": "YHnYbYgKuQ3G",
    "outputId": "ec2823dc-bd6e-40e6-c024-1c8aa8dd424f"
   },
   "outputs": [],
   "source": [
    "fig, ax = plt.subplots(layout='constrained')\n",
    "ax.hist(x[y == 0], label=\"uncrevassed\", alpha = 0.5)\n",
    "ax.hist(x[y == 1], label=\"crevassed\", alpha = 0.5)\n",
    "ax.set_xlabel('Von Mises Stress (Pa)'); plt.ylabel('Count')\n",
    "ax.set_title('Data Distributions')\n",
    "plt.legend()\n",
    "plt.show()"
   ]
  },
  {
   "cell_type": "markdown",
   "metadata": {
    "id": "4gwY2Lrdhd73"
   },
   "source": [
    "Check for a class imbalance. How does our sample size for crevassed vs. uncrevassed areas compare?       \n",
    "\n",
    "**Hint:** Take a look at the `value_counts()` function for a pandas `DataFrame`."
   ]
  },
  {
   "cell_type": "code",
   "execution_count": null,
   "metadata": {
    "colab": {
     "base_uri": "https://localhost:8080/",
     "height": 178
    },
    "executionInfo": {
     "elapsed": 179,
     "status": "ok",
     "timestamp": 1723217975241,
     "user": {
      "displayName": "Riley Culberg",
      "userId": "02970321604032259074"
     },
     "user_tz": 240
    },
    "id": "YP8zOaumszjL",
    "outputId": "abf8c816-8bb0-4ac4-cfd7-600546c46e2a"
   },
   "outputs": [],
   "source": [
    "# Enter code to check for class imbalance\n"
   ]
  },
  {
   "cell_type": "markdown",
   "metadata": {
    "id": "32XHdpiXhnqo"
   },
   "source": [
    "Use `StandardScaler` to apply a z-score transform to your input feature (stress/`x`). Remember to train your scaler on only the training data set and then apply those same statistics to the validation and test sets!"
   ]
  },
  {
   "cell_type": "code",
   "execution_count": 18,
   "metadata": {
    "executionInfo": {
     "elapsed": 218,
     "status": "ok",
     "timestamp": 1723482277566,
     "user": {
      "displayName": "Riley Culberg",
      "userId": "02970321604032259074"
     },
     "user_tz": 240
    },
    "id": "4rGxu5eIs8vf"
   },
   "outputs": [],
   "source": [
    "# Add your code here to apply the z-score to the stress data\n"
   ]
  },
  {
   "cell_type": "markdown",
   "metadata": {
    "id": "0uQ1uFhEiUL6"
   },
   "source": [
    "Add code below instantiate a new `LogisticRegression` object called `regress`. Remember to use `class_weight='balanced'` to account for any class imbalances in the dataset. Then fit the logistic regression model on the scaled training dataset. You may find the documentation for `LogisticRegression` and the associated examples helpful: https://scikit-learn.org/stable/modules/generated/sklearn.linear_model.LogisticRegression.html.     "
   ]
  },
  {
   "cell_type": "code",
   "execution_count": null,
   "metadata": {
    "colab": {
     "base_uri": "https://localhost:8080/",
     "height": 129
    },
    "executionInfo": {
     "elapsed": 176,
     "status": "ok",
     "timestamp": 1723482279466,
     "user": {
      "displayName": "Riley Culberg",
      "userId": "02970321604032259074"
     },
     "user_tz": 240
    },
    "id": "vySvR8nftFb8",
    "outputId": "05d07683-ee1e-4f03-a86e-ef97145ef5b3"
   },
   "outputs": [],
   "source": [
    "# Add your code here to train the logistic regression model\n"
   ]
  },
  {
   "cell_type": "markdown",
   "metadata": {
    "id": "b56MYTk-jPbM"
   },
   "source": [
    "In the code block below, we would like to plot the model-predicted probability of fracture as a function of the Von Mises stress. To do so, we can generate an array of evenly spaced stress values between and feed it to the `predict_proba()` function to predict the probability of fracture for each stress value.      \n",
    "\n",
    "At the top of the code block, generate an array of values from -3 to 5 in increments of 0.05 and call the new variables `stress`. Then use the `predict_proba()` attribute of your `LogisticRegression` object to predict the probability of fracture for each values in this new array. Call this new variable `prob`.     \n",
    "\n",
    "You should see that `prob` is an (X,2) array (where X is the size of the training dataset). This is because `LogisticRegression` provides predictions for both class labels. So `prob[:,0]` is the probability of no fracture for each stress value and `prob[:,1]` is the probability of fracture for each stress value.     \n",
    "\n",
    "By running the completed code block you should see a plot comparing the probability of fracture to the distributions of crevassed and uncrevassed points in the original data. The red dashed line marks the default threshold for discriminating between crevassed and uncrevassed areas. It assumes that if we predict that a location has a >=50% probability of fracture, it should be marked as crevassed."
   ]
  },
  {
   "cell_type": "code",
   "execution_count": null,
   "metadata": {
    "colab": {
     "base_uri": "https://localhost:8080/",
     "height": 508
    },
    "executionInfo": {
     "elapsed": 1972,
     "status": "ok",
     "timestamp": 1723482888141,
     "user": {
      "displayName": "Riley Culberg",
      "userId": "02970321604032259074"
     },
     "user_tz": 240
    },
    "id": "FvuvsL4ftJ9_",
    "outputId": "05504765-4aa0-4e68-e278-d59d3f295aaa"
   },
   "outputs": [],
   "source": [
    "# Add your code here to generate a new array of normalized stress values between\n",
    "# -3 and 5 and then predict the probability of fracture on this new array\n",
    "\n",
    "\n",
    "# Calculate the stress threshold of discriminating between fracture and no fracture\n",
    "# assuming a default cutoff probability of 50%\n",
    "threshold = np.argmin(np.abs(prob[:,1] - 0.5))\n",
    "rescaled_stress = ss.inverse_transform(stress)\n",
    "\n",
    "# Plot the model predictions vs. the distribution of the raw data\n",
    "fig, ax = plt.subplots(layout='constrained')\n",
    "im = ax.hist2d(data['stress']/1000, data['label'], (100,50))\n",
    "ax.plot(rescaled_stress/1000, prob[:,1], color=\"white\", label=\"Logistic Regression Fit\")\n",
    "ax.vlines(rescaled_stress[threshold]/1000,0,1, color=\"red\", linestyle=\"dashed\")\n",
    "ax.plot(rescaled_stress/1000, 0.5*np.ones(stress.shape), color=\"white\", linestyle=\"dotted\")\n",
    "ax.set_xlabel('Von Mises Stress (kPa)'); plt.ylabel('Probability of Fracture')\n",
    "ax.set_title('Logistic Regression Model')\n",
    "cbar = fig.colorbar(im[3], ax=ax, label=\"Data Count\")\n",
    "plt.legend(loc=\"right\")\n",
    "plt.show()"
   ]
  },
  {
   "cell_type": "markdown",
   "metadata": {
    "id": "YIsKtLtfcz-l"
   },
   "source": [
    "## Evaluation Metrics   \n",
    "\n",
    "In this section of the lab, we will explore different ways to evaluate our model for predicting crevassed regions. In the code blocks below, complete the following tasks.\n",
    "    \n",
    "(1) Plot the confusion matrix for the test set. Set `normalize='true'` to list the classification rates, rather than the raw counts. See the documentation for `metrics.confusion_matrix` and `metrics.ConfusionMatrixDisplay` for help.      \n",
    "https://scikit-learn.org/stable/modules/generated/sklearn.metrics.confusion_matrix.html                 \n",
    "https://scikit-learn.org/stable/modules/generated/sklearn.metrics.ConfusionMatrixDisplay.html"
   ]
  },
  {
   "cell_type": "code",
   "execution_count": null,
   "metadata": {
    "colab": {
     "base_uri": "https://localhost:8080/",
     "height": 449
    },
    "executionInfo": {
     "elapsed": 989,
     "status": "ok",
     "timestamp": 1723217988084,
     "user": {
      "displayName": "Riley Culberg",
      "userId": "02970321604032259074"
     },
     "user_tz": 240
    },
    "id": "qzWxJTzyuDe1",
    "outputId": "5a3dc11f-bbbd-4292-8653-365223dd3d4f"
   },
   "outputs": [],
   "source": [
    "# Enter your code here to plot the confusion matrix\n"
   ]
  },
  {
   "cell_type": "markdown",
   "metadata": {
    "id": "F60Ma5DYmDf4"
   },
   "source": [
    "(2) The code below lists the recall, precision, and f1 score on the test set. See the documentation for `metrics.precision_recall_fscore_support`.\n",
    "https://scikit-learn.org/stable/modules/generated/sklearn.metrics.precision_recall_fscore_support.html      \n",
    "https://scikit-learn.org/stable/modules/generated/sklearn.metrics.matthews_corrcoef.html         "
   ]
  },
  {
   "cell_type": "code",
   "execution_count": null,
   "metadata": {
    "colab": {
     "base_uri": "https://localhost:8080/"
    },
    "executionInfo": {
     "elapsed": 182,
     "status": "ok",
     "timestamp": 1723217990461,
     "user": {
      "displayName": "Riley Culberg",
      "userId": "02970321604032259074"
     },
     "user_tz": 240
    },
    "id": "23ku6ih8fZ7c",
    "outputId": "2bd95d60-5ae2-45f1-9088-bba6ebfc39ba"
   },
   "outputs": [],
   "source": [
    "precision, recall, f1, support = metrics.precision_recall_fscore_support(y_test, y_pred, average='binary')\n",
    "print(\"Precision:\", precision, \"Recall:\", recall, \"F1 Score:\", f1)"
   ]
  },
  {
   "cell_type": "markdown",
   "metadata": {
    "id": "pVePWx2xmGm5"
   },
   "source": [
    "(3) The code below plots the ROC curve with the change line and list the area under curve (AUC) metric on the test set. See the documentation for `metrics.RocCurveDisplay`.         \n",
    "https://scikit-learn.org/stable/modules/generated/sklearn.metrics.RocCurveDisplay.html"
   ]
  },
  {
   "cell_type": "code",
   "execution_count": null,
   "metadata": {
    "colab": {
     "base_uri": "https://localhost:8080/",
     "height": 466
    },
    "executionInfo": {
     "elapsed": 1074,
     "status": "ok",
     "timestamp": 1723217994564,
     "user": {
      "displayName": "Riley Culberg",
      "userId": "02970321604032259074"
     },
     "user_tz": 240
    },
    "id": "DVZRhkbUZp64",
    "outputId": "74ec1313-d0b3-4137-b78b-f948cc311e71"
   },
   "outputs": [],
   "source": [
    "metrics.RocCurveDisplay.from_estimator(regress,x_test_scaled,y_test, plot_chance_level=True)"
   ]
  },
  {
   "cell_type": "markdown",
   "metadata": {
    "id": "tD865te1me0C"
   },
   "source": [
    "## Cross Fold Validation         \n",
    "\n",
    "As we discussed in class, one of the ways that we can avoid overfitting and ensure that our model evaluation metrics are fully representative of the data is to use cross-fold validation. In the code below, you will explore the difference between using standard stratified K-Fold validation and regionally stratified K-fold validation for our crevasse dataset.      \n",
    "\n",
    "The first code block applies standard K-fold validation. In this version, we randomly split our data into 10 different test and training datesets, retrain the model 10 times, and evaluate each model on a different test set. The use of `model_selection.StratifiedShuffleSplit` makes sure that each test and training dataset has the same proportion of crevassed and uncrevassed data as the total dataset."
   ]
  },
  {
   "cell_type": "code",
   "execution_count": null,
   "metadata": {
    "colab": {
     "base_uri": "https://localhost:8080/",
     "height": 525
    },
    "executionInfo": {
     "elapsed": 4806,
     "status": "ok",
     "timestamp": 1723483846998,
     "user": {
      "displayName": "Riley Culberg",
      "userId": "02970321604032259074"
     },
     "user_tz": 240
    },
    "id": "44LZwhItmhpC",
    "outputId": "1888f6e1-7e95-4312-f725-f54bdb1b6a9f"
   },
   "outputs": [],
   "source": [
    "# Define the evaluation metrics that we want to run on each model iteration\n",
    "scoring = ['precision_weighted', 'recall_weighted', 'f1_weighted', 'matthews_corrcoef', 'roc_auc']\n",
    "# Define how our 10 folds, where the test set is 20% of the data and remaining 80% is for training\n",
    "cv = model_selection.StratifiedShuffleSplit(n_splits=10, test_size=0.2, random_state=0)\n",
    "# Run the cross validation and get the resulting evaluation metrics\n",
    "scores = model_selection.cross_validate(regress, ss.transform(x), y.to_numpy(), cv=cv, scoring=scoring)\n",
    "\n",
    "# Print the mean evaluation metrics, ply or minus 1 standard deviation\n",
    "print('Precision=%.3f+/-%.3f, Recall=%.3f+/-%.3f, F-Score=%.3f+/-%.3f, MCC=%.3f+/-%.3f, AUC=%.3f+/-%.3f' %\n",
    "      (np.mean(scores['test_precision_weighted']), np.std(scores['test_precision_weighted']),\n",
    "       np.mean(scores['test_recall_weighted']), np.std(scores['test_recall_weighted']),\n",
    "       np.mean(scores['test_f1_weighted']), np.std(scores['test_f1_weighted']),\n",
    "       np.mean(scores['test_matthews_corrcoef']), np.std(scores['test_matthews_corrcoef']),\n",
    "       np.mean(scores['test_roc_auc']), np.std(scores['test_roc_auc'])))\n",
    "\n",
    "# Plot the F1 score, MCC, and AUC metrics for each fold\n",
    "fig, ax = plt.subplots(layout='constrained')\n",
    "ax.plot(scores['test_f1_weighted'], '-o',label=\"F1 Score\")\n",
    "#ax.plot(scores['test_matthews_corrcoef'], '-o',label=\"MCC\")\n",
    "ax.plot(scores['test_roc_auc'], '-o',label=\"AUC\")\n",
    "ax.set_xlabel('Fold Number'); plt.ylabel('Score')\n",
    "ax.set_title('10-Fold Cross Validation with Split Shuffle')\n",
    "ax.set_ylim((0,1))\n",
    "plt.legend()\n",
    "plt.show()"
   ]
  },
  {
   "cell_type": "markdown",
   "metadata": {
    "id": "EJLWn4dqnvRb"
   },
   "source": [
    "The second code block applies regional cross-validation. In the provided dataset, the data is ordered by spatial distance from the northern most point in the dataset. So if we define our test and training datasets by position in the original dataset, we can break create test folds that from different regions of the ice sheet. The code below divides the original dataset into 10 consecutive, non-overlapping folds (e.g. fold 1 is indices 0-1000, fold 2 is indices 1001-2000, etc). For iteration of model training the corresponding fold serves as the test set, and the remaining data is used for training. By looking at how the model evaluation varies across these regional folds, we can see if our model performs better in some regions of the ice sheet than in others."
   ]
  },
  {
   "cell_type": "code",
   "execution_count": null,
   "metadata": {
    "colab": {
     "base_uri": "https://localhost:8080/",
     "height": 580
    },
    "executionInfo": {
     "elapsed": 2582,
     "status": "ok",
     "timestamp": 1723483862787,
     "user": {
      "displayName": "Riley Culberg",
      "userId": "02970321604032259074"
     },
     "user_tz": 240
    },
    "id": "pocqqfts5J99",
    "outputId": "fc939715-6d15-4d9a-f43e-4fe622e346d7"
   },
   "outputs": [],
   "source": [
    "# Define the index range for each fold\n",
    "folds = 10\n",
    "test_len = np.rint(x.shape[0]/folds).astype(int)\n",
    "test_folds = 9*np.zeros(x.shape)\n",
    "for i in range(0,folds):\n",
    "  test_folds[i*test_len:(i+1)*test_len] = i\n",
    "\n",
    "# Create a predefined split object using these manually generate test fold indices\n",
    "ps = model_selection.PredefinedSplit(test_folds)\n",
    "\n",
    "# Define the evaluation metrics that we want to run on each model iteration\n",
    "scoring2 = ['precision_weighted', 'recall_weighted', 'f1_weighted', 'matthews_corrcoef', 'roc_auc']\n",
    "# Run the cross validation\n",
    "scores2 = model_selection.cross_validate(regress, ss.transform(x), y.to_numpy(), cv=ps, scoring=scoring2, return_indices=True)\n",
    "\n",
    "# Print the mean evaluation metrics, ply or minus 1 standard deviation\n",
    "print('Precision=%.3f+/-%.3f, Recall=%.3f+/-%.3f, F-Score=%.3f+/-%.3f, MCC=%.3f+/-%.3f, AUC=%.3f+/-%.3f' %\n",
    "      (np.mean(scores2['test_precision_weighted']), np.std(scores2['test_precision_weighted']),\n",
    "       np.mean(scores2['test_recall_weighted']), np.std(scores2['test_recall_weighted']),\n",
    "       np.mean(scores2['test_f1_weighted']), np.std(scores2['test_f1_weighted']),\n",
    "       np.mean(scores2['test_matthews_corrcoef']), np.std(scores2['test_matthews_corrcoef']),\n",
    "       np.mean(scores2['test_roc_auc']), np.std(scores2['test_roc_auc'])))\n",
    "\n",
    "# Plot the F1 score, MCC, and AUC metrics for each fold\n",
    "fig, ax = plt.subplots(layout='constrained')\n",
    "ax.plot(scores2['test_f1_weighted'], '-o', label=\"F1 Score\")\n",
    "#ax.plot(scores2['test_matthews_corrcoef'],'-o', label=\"MCC\")\n",
    "ax.plot(scores2['test_roc_auc'], '-o',label=\"AUC\")\n",
    "ax.set_xlabel('Fold Number'); plt.ylabel('Score')\n",
    "ax.set_title('10-Fold Cross Validation with Regional Folds')\n",
    "ax.set_ylim((0,1))\n",
    "plt.legend()\n",
    "plt.show()"
   ]
  },
  {
   "cell_type": "markdown",
   "metadata": {
    "id": "1nVeNXlkpN8E"
   },
   "source": [
    "With your lab group, discuss the following questions:         \n",
    "\n",
    "(1) How do the average model evaluation metrics compare between the random stratified k-fold method and the regional k-fold method?    \n",
    "(2) If you ran only a a random k-fold validation and did not consider the impact of spatial correlation and regional variations in ice sheet properties, would you over or underestimate the true performance of your model?         \n",
    "(3) Looking at the regional k-fold method figure, which are there any spatial trends in model performance that you see?         "
   ]
  },
  {
   "cell_type": "markdown",
   "metadata": {
    "id": "hoXz0rPsgUcu"
   },
   "source": [
    "## Hyperparameter Tuning   \n",
    "\n",
    "At the beginning of this lab, we assumed that the optimal probability cutoff of discrimination between crevassed and uncrevassed areas was a probability of 50%. However, this is a hyperparmeter that we can tune to try and improve our model performance. There are a variety of ways to pick an \"optimal\" detection thresholds. Two of the most common are using the J statistic with the ROC curve or the F1 score with recall-precision curve.   "
   ]
  },
  {
   "cell_type": "markdown",
   "metadata": {
    "id": "2mMysgvdq6yU"
   },
   "source": [
    "The code block below shows you how to use the J statistic to pick the optimal threshold for crevasse detection and plot the ROC curve with is point. Remember from lecture that the J statistic helps us find the point on the ROC curve that is furthest from chance level.\n"
   ]
  },
  {
   "cell_type": "code",
   "execution_count": null,
   "metadata": {
    "colab": {
     "base_uri": "https://localhost:8080/",
     "height": 466
    },
    "executionInfo": {
     "elapsed": 821,
     "status": "ok",
     "timestamp": 1723484542900,
     "user": {
      "displayName": "Riley Culberg",
      "userId": "02970321604032259074"
     },
     "user_tz": 240
    },
    "id": "o45iFCkfgykM",
    "outputId": "36cbc489-1780-48ce-eeaa-f781256fb547"
   },
   "outputs": [],
   "source": [
    "# Use our trained model to predict the probabilty of fracture on our validation sset\n",
    "y_score = regress.predict_proba(x_val_scaled)\n",
    "\n",
    "# Calculate the false positive rate and true positive rate for a range of different\n",
    "# discrimination thresholds\n",
    "fpr, tpr, thresholds = metrics.roc_curve(y_val, y_score[:,1])\n",
    "# Calculate the J statistic and find it's maximum value\n",
    "J = tpr - fpr\n",
    "ind = np.argmax(J)\n",
    "\n",
    "# Plot the ROC curve\n",
    "metrics.RocCurveDisplay.from_estimator(regress,x_val_scaled,y_val, plot_chance_level=True)\n",
    "# Add a point showing where the J-statistic is maximized\n",
    "plt.scatter(fpr[ind], tpr[ind], color=\"orange\", label=\"Optimal Threshold - J Statistic\")\n",
    "plt.legend()\n",
    "\n",
    "# Print out the best probability threshold and the associated J statistic\n",
    "print('Best Threshold=%f, J Statistic=%.3f' % (thresholds[ind], J[ind]))"
   ]
  },
  {
   "cell_type": "markdown",
   "metadata": {
    "id": "rUmyCM2gq88s"
   },
   "source": [
    "The next code block demonstrates how we can use this optimized detection threshold to predict crevassed vs. uncrevassed areas on our test set. We can then calculate our new model evaluation metrics on this (hopefully) improved classification.    \n",
    "\n",
    "Run the code below, then discuss the following questions with your lab group:       \n",
    "(1) How did the evaluation metrics change once you applied the new detection threshold? (Compare these results to what you found in the original \"Evaluation Metrics\" section of this lab.)        \n",
    "(2) Is the updated model better at predicting the presence or absence of crevasses?   \n",
    "\n",
    "\n"
   ]
  },
  {
   "cell_type": "code",
   "execution_count": null,
   "metadata": {
    "colab": {
     "base_uri": "https://localhost:8080/",
     "height": 466
    },
    "executionInfo": {
     "elapsed": 380,
     "status": "ok",
     "timestamp": 1723218082946,
     "user": {
      "displayName": "Riley Culberg",
      "userId": "02970321604032259074"
     },
     "user_tz": 240
    },
    "id": "8ZON6sZPiI1K",
    "outputId": "63b1e033-0a6b-4dfd-b7c0-012cc59026b5"
   },
   "outputs": [],
   "source": [
    "# Predict the probability of fracture on the text dataset\n",
    "prob = regress.predict_proba(x_test_scaled)\n",
    "# Create a new empty matrix to hold crevassed vs. uncrevassed prediction\n",
    "y_pred = np.empty(prob.shape[0])\n",
    "# If the probabilty exceeds the newly defined threshold, set the prediction to 1\n",
    "y_pred[prob[:,1] >= thresholds[ind]] = 1\n",
    "y_pred[prob[:,1] < thresholds[ind]] = 0\n",
    "\n",
    "# Create and plot the foncusion matrix\n",
    "confusion_matrix = metrics.confusion_matrix(y_test, y_pred, normalize='true')\n",
    "\n",
    "cm_display = metrics.ConfusionMatrixDisplay(confusion_matrix = confusion_matrix, display_labels = [False, True])\n",
    "cm_display.plot()\n",
    "plt.show()\n",
    "\n",
    "# Calculate and print the model evaluation metrics\n",
    "precision, recall, f1, support = metrics.precision_recall_fscore_support(y_test, y_pred, average='binary')\n",
    "print('Precision=%.3f, Recall=%.3f, F-Score=%.3f' % (precision, recall, f1))"
   ]
  },
  {
   "cell_type": "markdown",
   "metadata": {
    "id": "Ux_licGnq-tD"
   },
   "source": [
    "Alternatively, we could use the F1 score and precision-recall curve to optimize our discrimination threshold. The code block below picks an optimal threshold using the F1 score, then classifies the test dataset using this new threshold and displays the evaluation metrics. \n",
    "\n",
    "Discuss the following questions with your lab group:       \n",
    "(1) Are the optimal detection threshold or model evaluation results different when using the F1 score vs. the J statistic to select the detection threshold?     \n",
    "(2) Which method do you think is most appropriate for this particular use case (detecting crevasses)? Why?"
   ]
  },
  {
   "cell_type": "code",
   "execution_count": null,
   "metadata": {
    "colab": {
     "base_uri": "https://localhost:8080/",
     "height": 560
    },
    "executionInfo": {
     "elapsed": 891,
     "status": "ok",
     "timestamp": 1723218090057,
     "user": {
      "displayName": "Riley Culberg",
      "userId": "02970321604032259074"
     },
     "user_tz": 240
    },
    "id": "r52xo2lSioyN",
    "outputId": "33553ea6-3e46-4391-a459-767256235e55"
   },
   "outputs": [],
   "source": [
    "precision, recall, thresholds = metrics.precision_recall_curve(y_val, y_score[:,1])\n",
    "\n",
    "fscore = (2 * precision * recall) / (precision + recall)\n",
    "fscore[np.isnan(fscore)]=0\n",
    "ix = np.argmax(fscore)\n",
    "print('Best Threshold=%f, F-Score=%.3f' % (thresholds[ix], fscore[ix]))\n",
    "\n",
    "fig, ax = plt.subplots(layout='constrained')\n",
    "ax.plot(recall, precision)\n",
    "ax.scatter(recall[ix], precision[ix], color=\"orange\", label=\"Optimal Threshold - F1 Score\")\n",
    "ax.set_xlabel('Recall'); plt.ylabel('Precision')\n",
    "ax.set_title('Precision-Recall Curve')\n",
    "plt.legend()\n",
    "plt.show()\n",
    "\n",
    "prob = regress.predict_proba(x_test_scaled)\n",
    "y_pred = np.empty(prob.shape[0])\n",
    "y_pred[prob[:,1] >= thresholds[ix]] = 1\n",
    "y_pred[prob[:,1] < thresholds[ix]] = 0\n",
    "\n",
    "confusion_matrix = metrics.confusion_matrix(y_test, y_pred, normalize='true')\n",
    "\n",
    "cm_display = metrics.ConfusionMatrixDisplay(confusion_matrix = confusion_matrix, display_labels = [False, True])\n",
    "cm_display.plot()\n",
    "plt.show()\n",
    "\n",
    "precision, recall, f1, support = metrics.precision_recall_fscore_support(y_test, y_pred, average='binary')\n",
    "print('Precision=%.3f, Recall=%.3f, F-Score=%.3f' % (precision, recall, f1))"
   ]
  }
 ],
 "metadata": {
  "colab": {
   "authorship_tag": "ABX9TyOB5PBPCfQJlU1xQ3bTC+0H",
   "provenance": []
  },
  "kernelspec": {
   "display_name": "EAS6920: ML in EAS",
   "language": "python",
   "name": "ml_in_eas"
  },
  "language_info": {
   "codemirror_mode": {
    "name": "ipython",
    "version": 3
   },
   "file_extension": ".py",
   "mimetype": "text/x-python",
   "name": "python",
   "nbconvert_exporter": "python",
   "pygments_lexer": "ipython3",
   "version": "3.12.5"
  }
 },
 "nbformat": 4,
 "nbformat_minor": 4
}
